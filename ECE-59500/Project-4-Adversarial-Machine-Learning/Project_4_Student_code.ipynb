{
  "nbformat": 4,
  "nbformat_minor": 0,
  "metadata": {
    "colab": {
      "name": "Project_4_Student.ipynb",
      "provenance": []
    },
    "kernelspec": {
      "name": "python2",
      "display_name": "Python 2"
    }
  },
  "cells": [
    {
      "cell_type": "markdown",
      "metadata": {
        "colab_type": "text",
        "id": "NiZYmbLsCx8C"
      },
      "source": [
        "#Student Name: \n",
        "#ECE 595 Machine Learning II\n",
        "#Project 4: Adversarial Machine Learning - Student Code"
      ]
    },
    {
      "cell_type": "code",
      "metadata": {
        "id": "ZH3b6I2oq_6i",
        "colab_type": "code",
        "colab": {}
      },
      "source": [
        "#Install Cleverhans (version Cleverhans 2.1.0 is most compatable with Python 2.x)\n",
        "!pip install cleverhans==2.1.0"
      ],
      "execution_count": 0,
      "outputs": []
    },
    {
      "cell_type": "code",
      "metadata": {
        "id": "mVKiKyxvrDio",
        "colab_type": "code",
        "colab": {}
      },
      "source": [
        "#Import necessary packages\n",
        "from keras.datasets import mnist\n",
        "from keras import Sequential\n",
        "from keras.layers import Dense, BatchNormalization\n",
        "from keras import backend\n",
        "import keras\n",
        "import tensorflow as tf\n",
        "import numpy as np\n",
        "import matplotlib.pyplot as plt\n",
        "from sklearn.decomposition import PCA\n",
        "from cleverhans.utils_keras import KerasModelWrapper\n",
        "from cleverhans.attacks import FastGradientMethod, MadryEtAl, DeepFool, CarliniWagnerL2"
      ],
      "execution_count": 0,
      "outputs": []
    },
    {
      "cell_type": "markdown",
      "metadata": {
        "id": "AR7lUPK3rL3d",
        "colab_type": "text"
      },
      "source": [
        "#Part 1: Training a target classifier"
      ]
    },
    {
      "cell_type": "code",
      "metadata": {
        "id": "dRvltpU9rMZp",
        "colab_type": "code",
        "colab": {}
      },
      "source": [
        "# Load data MNIST data and normalize to [0, 1]\n",
        "#FILL THIS IN\n",
        "\n",
        "#Reshape training and testing data into 784-dimensional vectors \n",
        "#FILL THIS IN\n",
        "\n",
        "#Convert integer labels for training and testing data into one-hot vectors \n",
        "#FILL THIS IN\n",
        "\n",
        "#Create classifier architecture, compile it, and train it\n",
        "#FILL THIS IN\n",
        "\n"
      ],
      "execution_count": 0,
      "outputs": []
    },
    {
      "cell_type": "code",
      "metadata": {
        "id": "uOsXwFOvrs14",
        "colab_type": "code",
        "colab": {}
      },
      "source": [
        "#Plot loss vs epoch\n",
        "#FILL THIS IN"
      ],
      "execution_count": 0,
      "outputs": []
    },
    {
      "cell_type": "code",
      "metadata": {
        "id": "4C4mOVvSr4KP",
        "colab_type": "code",
        "colab": {}
      },
      "source": [
        "#Plot accuracy vs epoch\n",
        "#FILL THIS IN"
      ],
      "execution_count": 0,
      "outputs": []
    },
    {
      "cell_type": "code",
      "metadata": {
        "id": "gr53zDpTr5wO",
        "colab_type": "code",
        "colab": {}
      },
      "source": [
        "#Print accuracy of classifier on MNIST testing data\n",
        "#FILL THIS IN"
      ],
      "execution_count": 0,
      "outputs": []
    },
    {
      "cell_type": "code",
      "metadata": {
        "id": "YEcrqpjas3Xh",
        "colab_type": "code",
        "colab": {}
      },
      "source": [
        "# Edit the classifier name fed into KerasModel Wrapper with the name of the \n",
        "# classifier from above and then run this block\n",
        "\n",
        "#Get TensorFlow Session to pass into Cleverhans modules\n",
        "sess = backend.get_session()\n",
        "\n",
        "#Create wrapper for classifier model so that it can be passed into Cleverhans modules\n",
        "wrap = KerasModelWrapper(insert_classifier_variable_name_here)"
      ],
      "execution_count": 0,
      "outputs": []
    },
    {
      "cell_type": "markdown",
      "metadata": {
        "id": "8_Ehc7tas5YS",
        "colab_type": "text"
      },
      "source": [
        "#Part 2: The Fast Gradient Method (FGM)"
      ]
    },
    {
      "cell_type": "code",
      "metadata": {
        "id": "GA5T9mkws9vJ",
        "colab_type": "code",
        "colab": {}
      },
      "source": [
        "#Implementing the FGSM attack\n",
        "\n",
        "#FGM Instance on trained classifier from Part 1\n",
        "#FILL THIS IN\n",
        "\n",
        "#Attack parameters\n",
        "#FILL THIS IN\n",
        "\n",
        "#Generate adversarial data\n",
        "#FILL THIS IN\n",
        "\n",
        "#Evaluate accuracy on target classifier \n",
        "#FILL THIS IN\n"
      ],
      "execution_count": 0,
      "outputs": []
    },
    {
      "cell_type": "code",
      "metadata": {
        "id": "wE_rdYIrDeNZ",
        "colab_type": "code",
        "colab": {}
      },
      "source": [
        "#Show ten original samples and their corresponding adversarial samples\n",
        "#FILL THIS IN"
      ],
      "execution_count": 0,
      "outputs": []
    },
    {
      "cell_type": "code",
      "metadata": {
        "id": "qurgywiaJe-I",
        "colab_type": "code",
        "colab": {}
      },
      "source": [
        "#Implementing Detection via Autoencoders\n",
        "\n",
        "def autoencoder():\n",
        "    ae = Sequential()\n",
        "    ae.add(Dense(400, activation=None, kernel_initializer=\"normal\", input_dim=784))\n",
        "    ae.add(Dense(200, activation=None, kernel_initializer='normal'))\n",
        "    ae.add(Dense(100, activation=None, kernel_initializer='normal'))\n",
        "    ae.add(Dense(200, activation=None, kernel_initializer='normal'))\n",
        "    ae.add(Dense(400, activation=None, kernel_initializer='normal'))\n",
        "    ae.add(Dense(784, activation='sigmoid', kernel_initializer='normal'))\n",
        "    return ae\n",
        "\n",
        "#Create and train the autoencoder using the mean squared error loss and adam optimizer\n",
        "#FILL THIS IN"
      ],
      "execution_count": 0,
      "outputs": []
    },
    {
      "cell_type": "code",
      "metadata": {
        "id": "sGVPbCP_JvDo",
        "colab_type": "code",
        "colab": {}
      },
      "source": [
        "#Using the autoencoder for detection and to determine a threshold \n",
        "\n",
        "# Create adversarial examples using FGSM on training data\n",
        "#FILL THIS IN\n",
        "\n",
        "# Obtain reconstruction errors on training set and determine a threshold \n",
        "#FILL THIS IN\n",
        "\n",
        "# Convert error tensor into NumPy array \n",
        "# CHANGE NAME 'error' TO WHAT YOU CALLED IT ABOVE\n",
        "error = error.eval(session=sess)\n",
        "\n",
        "# Determine threshold (based on min in this case) and print it \n",
        "#FILL THIS IN\n",
        "\n",
        "# Calculate error of adversarial testing set\n",
        "#FILL THIS IN\n",
        "\n",
        "# Determine how many examples are above threshold and consider them adversarial\n",
        "# (true positive count)\n",
        "# Hint: Use a 'for' loop to compare each error value to the threshold\n",
        "#FILL THIS IN\n",
        "\n",
        "# Print number of true positive samples\n",
        "#FILL THIS IN  \n",
        "\n",
        "# Determine false positives on benign testing set\n",
        "#FILL THIS IN \n",
        "\n",
        "\n",
        "# Determine how many examples are above threshold and consider them adversarial\n",
        "# (false positive count)\n",
        "# Hint: Use a 'for' loop to compare each error value to the threshold\n",
        "#FILL THIS IN \n",
        "    \n",
        "# Print number of false positive samples\n",
        "#FILL THIS IN   "
      ],
      "execution_count": 0,
      "outputs": []
    },
    {
      "cell_type": "markdown",
      "metadata": {
        "id": "VE2WG6LnP14d",
        "colab_type": "text"
      },
      "source": [
        "#Part 3: Projected Gradient Descent"
      ]
    },
    {
      "cell_type": "code",
      "metadata": {
        "id": "iEkYKPN-P4Sj",
        "colab_type": "code",
        "colab": {}
      },
      "source": [
        "#Implementing the PGD attack\n",
        "\n",
        "#PGD Instance on trained classifier from Part 1\n",
        "pgd = MadryEtAl(wrap, sess=sess)\n",
        "\n",
        "#Attack parameters\n",
        "#FILL THIS IN\n",
        "\n",
        "#Generate adversarial data\n",
        "#FILL THIS IN\n",
        "\n",
        "#Evaluate accuracy of perturbed data on target classifier\n",
        "#FILL THIS IN"
      ],
      "execution_count": 0,
      "outputs": []
    },
    {
      "cell_type": "code",
      "metadata": {
        "id": "urEHSPQISer1",
        "colab_type": "code",
        "colab": {}
      },
      "source": [
        "#Show ten original samples and their corresponding adversarial samples\n",
        "#FILL THIS IN "
      ],
      "execution_count": 0,
      "outputs": []
    },
    {
      "cell_type": "code",
      "metadata": {
        "id": "gTygGikdUWU8",
        "colab_type": "code",
        "colab": {}
      },
      "source": [
        "#Implementing the adversarial training defense\n",
        "#FILL THIS IN"
      ],
      "execution_count": 0,
      "outputs": []
    },
    {
      "cell_type": "code",
      "metadata": {
        "id": "i6dMEXGBUlci",
        "colab_type": "code",
        "colab": {}
      },
      "source": [
        "#Using the defense to evaluate the accuracy of the perturbed data\n",
        "#FILL THIS IN "
      ],
      "execution_count": 0,
      "outputs": []
    },
    {
      "cell_type": "markdown",
      "metadata": {
        "id": "MqIEiMdar_5q",
        "colab_type": "text"
      },
      "source": [
        "#Part 4: Carlini and Wagner Attack"
      ]
    },
    {
      "cell_type": "code",
      "metadata": {
        "id": "oyyNb-v5sCY6",
        "colab_type": "code",
        "colab": {}
      },
      "source": [
        "#Implementing the CW attack\n",
        "\n",
        "#CW Instance on trained classifier from Part 1\n",
        "#FILL THIS IN\n",
        "\n",
        "\n",
        "#Attack parameters\n",
        "#FILL THIS IN\n",
        "\n",
        "\n",
        "#Generate adversarial data\n",
        "#FILL THIS IN\n",
        "\n",
        "\n",
        "#Evaluate accuracy of perturbed data on target classifier\n",
        "#FILL THIS IN"
      ],
      "execution_count": 0,
      "outputs": []
    },
    {
      "cell_type": "code",
      "metadata": {
        "id": "rlEMqrlPurRL",
        "colab_type": "code",
        "colab": {}
      },
      "source": [
        "#Show ten original samples and their corresponding adversarial samples\n",
        "#FILL THIS IN "
      ],
      "execution_count": 0,
      "outputs": []
    },
    {
      "cell_type": "code",
      "metadata": {
        "id": "P-VhQHQ2uvmV",
        "colab_type": "code",
        "colab": {}
      },
      "source": [
        "#Implementing the dimensionality reduction (PCA) defense \n",
        "\n",
        "#Calculate PCA projection\n",
        "pca = PCA(100)\n",
        "pca.fit(data_train)\n",
        "pca_train = pca.transform(data_train)\n",
        "pca_test = pca.transform(data_test)\n",
        "\n",
        "#Transform perturbed CW data using the subspace from the original training data\n",
        "#FILL THIS IN \n",
        "\n",
        "# create model for PCA\n",
        "def pca_model():\n",
        "    model = Sequential()\n",
        "    \n",
        "    #FILL THIS IN \n",
        "\n",
        "    return model\n",
        "\n",
        "#Create model graph, compile it, and train it using pca_train lables_train \n",
        "#FILL THIS IN "
      ],
      "execution_count": 0,
      "outputs": []
    },
    {
      "cell_type": "code",
      "metadata": {
        "id": "o9L61AfG2y94",
        "colab_type": "code",
        "colab": {}
      },
      "source": [
        "#Using the defense (and comparing to baseline accuracy)\n",
        "#FILL THIS IN "
      ],
      "execution_count": 0,
      "outputs": []
    },
    {
      "cell_type": "markdown",
      "metadata": {
        "id": "KP0mENqGhDt0",
        "colab_type": "text"
      },
      "source": [
        "#Part 5: DeepFool "
      ]
    },
    {
      "cell_type": "code",
      "metadata": {
        "id": "zHraovc2hES3",
        "colab_type": "code",
        "colab": {}
      },
      "source": [
        "#Implementing the DeepFool attack\n",
        "\n",
        "#DeepFool Instance on trained classifier from Part 1\n",
        "#FILL THIS IN\n",
        "\n",
        "\n",
        "#Attack parameters\n",
        "#FILL THIS IN\n",
        "\n",
        "\n",
        "#Generate adversarial data\n",
        "#FILL THIS IN\n",
        "\n",
        "\n",
        "#Evaluate accuracy of perturbed data on target classifier\n",
        "#FILL THIS IN"
      ],
      "execution_count": 0,
      "outputs": []
    },
    {
      "cell_type": "code",
      "metadata": {
        "id": "zEsLfmxThZ6M",
        "colab_type": "code",
        "colab": {}
      },
      "source": [
        "#Show ten original samples and their corresponding adversarial samples\n",
        "#FILL THIS IN"
      ],
      "execution_count": 0,
      "outputs": []
    },
    {
      "cell_type": "code",
      "metadata": {
        "id": "tOapt7QaM4U_",
        "colab_type": "code",
        "colab": {}
      },
      "source": [
        "#Implementing the Denoising Autoencoder Defense\n",
        "\n",
        "def autoencoder():\n",
        "    ae = Sequential()\n",
        "    ae.add(Dense(400, activation=None, kernel_initializer=\"normal\", input_dim=784))\n",
        "    ae.add(Dense(200, activation=None, kernel_initializer='normal'))\n",
        "    ae.add(Dense(100, activation=None, kernel_initializer='normal'))\n",
        "    ae.add(Dense(200, activation=None, kernel_initializer='normal'))\n",
        "    ae.add(Dense(400, activation=None, kernel_initializer='normal'))\n",
        "    ae.add(Dense(784, activation='sigmoid', kernel_initializer='normal'))\n",
        "    return ae\n",
        "\n",
        "#Create training data for DAE \n",
        "df_attack_data_train = deepfool.generate_np(data_train, **fgm_params)\n",
        "data_total_train = np.concatenate([df_attack_data_train, data_train])\n",
        "\n",
        "#Create and train DAE graph\n",
        "#FILL THIS IN"
      ],
      "execution_count": 0,
      "outputs": []
    },
    {
      "cell_type": "code",
      "metadata": {
        "id": "5CjKifVRNMMV",
        "colab_type": "code",
        "colab": {}
      },
      "source": [
        "#Using the defense\n",
        "\n",
        "#Use DAE to to remove adversarial perturbation \n",
        "#FILL THIS IN\n",
        "\n",
        "#Evaluate accuracy of FGM samples after denoising \n",
        "#FILL THIS IN"
      ],
      "execution_count": 0,
      "outputs": []
    },
    {
      "cell_type": "code",
      "metadata": {
        "id": "6NSAW0v3NSMB",
        "colab_type": "code",
        "colab": {}
      },
      "source": [
        "#Show ten samples of adversarial samples after denoising\n",
        "#FILL THIS IN"
      ],
      "execution_count": 0,
      "outputs": []
    }
  ]
}